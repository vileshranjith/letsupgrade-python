{
 "cells": [
  {
   "cell_type": "markdown",
   "metadata": {},
   "source": [
    "day 3 Assignment"
   ]
  },
  {
   "cell_type": "markdown",
   "metadata": {},
   "source": [
    "Question 1"
   ]
  },
  {
   "cell_type": "code",
   "execution_count": 12,
   "metadata": {},
   "outputs": [
    {
     "name": "stdin",
     "output_type": "stream",
     "text": [
      "altitude of the plane =  6500\n"
     ]
    },
    {
     "name": "stdout",
     "output_type": "stream",
     "text": [
      "go around and try later\n"
     ]
    }
   ],
   "source": [
    "alt=int(input(\"altitude of the plane = \"))\n",
    "if alt <= 1000:\n",
    "    print (\"safe to land\")\n",
    "elif alt>1000 and alt<5000:\n",
    "    print(\"come down to 1000ft\")\n",
    "else:\n",
    "    print(\"go around and try later\")\n",
    "    "
   ]
  },
  {
   "cell_type": "code",
   "execution_count": null,
   "metadata": {},
   "outputs": [],
   "source": []
  },
  {
   "cell_type": "code",
   "execution_count": 14,
   "metadata": {},
   "outputs": [
    {
     "name": "stdin",
     "output_type": "stream",
     "text": [
      "altitude of the plane =  1000\n"
     ]
    },
    {
     "name": "stdout",
     "output_type": "stream",
     "text": [
      "safe to land\n"
     ]
    }
   ],
   "source": [
    "alt=int(input(\"altitude of the plane = \"))\n",
    "if alt <= 1000:\n",
    "    print (\"safe to land\")\n",
    "elif alt>1000 and alt<5000:\n",
    "    print(\"come down to 1000ft\")\n",
    "else:\n",
    "    print(\"go around and try later\")"
   ]
  },
  {
   "cell_type": "code",
   "execution_count": null,
   "metadata": {},
   "outputs": [],
   "source": []
  },
  {
   "cell_type": "code",
   "execution_count": 15,
   "metadata": {},
   "outputs": [
    {
     "name": "stdin",
     "output_type": "stream",
     "text": [
      "altitude of the plane =  3005\n"
     ]
    },
    {
     "name": "stdout",
     "output_type": "stream",
     "text": [
      "come down to 1000ft\n"
     ]
    }
   ],
   "source": [
    "alt=int(input(\"altitude of the plane = \"))\n",
    "if alt <= 1000:\n",
    "    print (\"safe to land\")\n",
    "elif alt>1000 and alt<5000:\n",
    "    print(\"come down to 1000ft\")\n",
    "else:\n",
    "    print(\"go around and try later\")"
   ]
  },
  {
   "cell_type": "code",
   "execution_count": null,
   "metadata": {},
   "outputs": [],
   "source": []
  },
  {
   "cell_type": "markdown",
   "metadata": {},
   "source": [
    "Question 2"
   ]
  },
  {
   "cell_type": "code",
   "execution_count": 24,
   "metadata": {},
   "outputs": [
    {
     "name": "stdout",
     "output_type": "stream",
     "text": [
      "prime numbers between 1 and 200 are\n",
      "2\n",
      "3\n",
      "5\n",
      "7\n",
      "11\n",
      "13\n",
      "17\n",
      "19\n",
      "23\n",
      "29\n",
      "31\n",
      "37\n",
      "41\n",
      "43\n",
      "47\n",
      "53\n",
      "59\n",
      "61\n",
      "67\n",
      "71\n",
      "73\n",
      "79\n",
      "83\n",
      "89\n",
      "97\n",
      "101\n",
      "103\n",
      "107\n",
      "109\n",
      "113\n",
      "127\n",
      "131\n",
      "137\n",
      "139\n",
      "149\n",
      "151\n",
      "157\n",
      "163\n",
      "167\n",
      "173\n",
      "179\n",
      "181\n",
      "191\n",
      "193\n",
      "197\n",
      "199\n"
     ]
    }
   ],
   "source": [
    "print(\"prime numbers between 1 and 200 are\")\n",
    "for num in range(2,200):\n",
    "    for i in range(2,num):\n",
    "        if(num % i) == 0:\n",
    "            break\n",
    "    else:\n",
    "        print (num)"
   ]
  },
  {
   "cell_type": "code",
   "execution_count": null,
   "metadata": {},
   "outputs": [],
   "source": []
  },
  {
   "cell_type": "markdown",
   "metadata": {},
   "source": [
    "The End"
   ]
  }
 ],
 "metadata": {
  "kernelspec": {
   "display_name": "Python 3",
   "language": "python",
   "name": "python3"
  },
  "language_info": {
   "codemirror_mode": {
    "name": "ipython",
    "version": 3
   },
   "file_extension": ".py",
   "mimetype": "text/x-python",
   "name": "python",
   "nbconvert_exporter": "python",
   "pygments_lexer": "ipython3",
   "version": "3.8.3"
  }
 },
 "nbformat": 4,
 "nbformat_minor": 4
}
