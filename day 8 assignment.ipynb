{
 "cells": [
  {
   "cell_type": "code",
   "execution_count": 36,
   "metadata": {},
   "outputs": [],
   "source": [
    "def getinput(functioncall):\n",
    "    a=int(input(\"enter the number \"))\n",
    "    functioncall(a)"
   ]
  },
  {
   "cell_type": "code",
   "execution_count": 37,
   "metadata": {},
   "outputs": [
    {
     "name": "stdout",
     "output_type": "stream",
     "text": [
      "enter the number 9\n",
      "fibonacci series 9\n",
      "0\n",
      "1\n",
      "1\n",
      "2\n",
      "3\n",
      "5\n",
      "8\n",
      "13\n",
      "21\n"
     ]
    }
   ],
   "source": [
    "@getinput\n",
    "def fibonacci(b):\n",
    "    n1,n2 = 0,1\n",
    "    count = 0\n",
    "    print(\"fibonacci series\",b)\n",
    "    if b == 1:\n",
    "        print(b)\n",
    "    else:\n",
    "        while count < b:\n",
    "            print(n1)\n",
    "            next = n1 + n2\n",
    "            n1 = n2\n",
    "            n2 = next\n",
    "            count += 1\n",
    "    "
   ]
  },
  {
   "cell_type": "code",
   "execution_count": 45,
   "metadata": {},
   "outputs": [
    {
     "name": "stdout",
     "output_type": "stream",
     "text": [
      "enter the number 8\n",
      "8 is Even\n"
     ]
    }
   ],
   "source": [
    "@getinput\n",
    "def checkEvenOrOdd(num):\n",
    "    if (num % 2) == 0:\n",
    "        print(\"{0} is Even\".format(num))\n",
    "    else:\n",
    "        print(\"{0} is Odd\".format(num))"
   ]
  },
  {
   "cell_type": "code",
   "execution_count": 67,
   "metadata": {},
   "outputs": [
    {
     "name": "stdout",
     "output_type": "stream",
     "text": [
      "enter the number 7\n",
      "7  is a prime number\n"
     ]
    }
   ],
   "source": [
    "@getinput\n",
    "def prime(n):\n",
    "    for i in range(2,n):\n",
    "        if(n % i) == 0:\n",
    "            print(\"it is not a prime number\")\n",
    "            break\n",
    "    else:\n",
    "        print(n,\" is a prime number\")\n"
   ]
  },
  {
   "cell_type": "code",
   "execution_count": null,
   "metadata": {},
   "outputs": [],
   "source": []
  },
  {
   "cell_type": "markdown",
   "metadata": {},
   "source": [
    "question 2"
   ]
  },
  {
   "cell_type": "code",
   "execution_count": 66,
   "metadata": {},
   "outputs": [
    {
     "name": "stdout",
     "output_type": "stream",
     "text": [
      "not writable\n",
      "please open the file in write mode\n"
     ]
    }
   ],
   "source": [
    "try:\n",
    "    file = open(\"sample.txt\",\"r\")\n",
    "    file.write(\"this is a sample file\")\n",
    "    file.close()\n",
    "\n",
    "except Exception as e:\n",
    "    print(e)\n",
    "    print(\"please open the file in write mode\")\n",
    "    "
   ]
  },
  {
   "cell_type": "code",
   "execution_count": null,
   "metadata": {},
   "outputs": [],
   "source": []
  }
 ],
 "metadata": {
  "kernelspec": {
   "display_name": "Python 3",
   "language": "python",
   "name": "python3"
  },
  "language_info": {
   "codemirror_mode": {
    "name": "ipython",
    "version": 3
   },
   "file_extension": ".py",
   "mimetype": "text/x-python",
   "name": "python",
   "nbconvert_exporter": "python",
   "pygments_lexer": "ipython3",
   "version": "3.8.3"
  }
 },
 "nbformat": 4,
 "nbformat_minor": 4
}
