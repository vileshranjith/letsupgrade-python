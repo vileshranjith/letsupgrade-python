{
 "cells": [
  {
   "cell_type": "code",
   "execution_count": 1,
   "metadata": {},
   "outputs": [],
   "source": [
    "class bankAccount():\n",
    "    def __init__(self,ownerName,balance):\n",
    "        self.ownerName = ownerName\n",
    "        self.balance = balance\n",
    "        \n",
    "    def getdetails(self):\n",
    "        print(\"owner name: \",self.ownerName)\n",
    "        print(\"balance: Rs\",self.balance)\n",
    "        \n",
    "    def deposit(self):\n",
    "        deposit = int(input(\"enter the amount you want to deposit: Rs\"))\n",
    "        self.balance += deposit\n",
    "        print (\"current balance: Rs\",self.balance)\n",
    "        \n",
    "    def withdrawal(self):\n",
    "        withdraw = int(input(\"enter the amount you ant to withdraw: Rs\"))\n",
    "        if withdraw > self.balance:\n",
    "            print(\"not enough balance\")\n",
    "        else:\n",
    "            self.balance -= withdraw\n",
    "            print (\"current balance: Rs\",self.balance)"
   ]
  },
  {
   "cell_type": "code",
   "execution_count": 2,
   "metadata": {},
   "outputs": [],
   "source": [
    "vilesh = bankAccount(\"Vileshranjith\",30000)"
   ]
  },
  {
   "cell_type": "code",
   "execution_count": 3,
   "metadata": {},
   "outputs": [
    {
     "name": "stdout",
     "output_type": "stream",
     "text": [
      "owner name:  Vileshranjith\n",
      "balance: Rs 30000\n"
     ]
    }
   ],
   "source": [
    "vilesh.getdetails()"
   ]
  },
  {
   "cell_type": "code",
   "execution_count": 4,
   "metadata": {},
   "outputs": [
    {
     "name": "stdin",
     "output_type": "stream",
     "text": [
      "enter the amount you want to deposit: Rs 2000\n"
     ]
    },
    {
     "name": "stdout",
     "output_type": "stream",
     "text": [
      "current balance: Rs 32000\n"
     ]
    }
   ],
   "source": [
    "bankAccount.deposit(vilesh)"
   ]
  },
  {
   "cell_type": "code",
   "execution_count": 5,
   "metadata": {},
   "outputs": [
    {
     "name": "stdin",
     "output_type": "stream",
     "text": [
      "enter the amount you ant to withdraw: Rs 20000\n"
     ]
    },
    {
     "name": "stdout",
     "output_type": "stream",
     "text": [
      "current balance: Rs 12000\n"
     ]
    }
   ],
   "source": [
    "bankAccount.withdrawal(vilesh)"
   ]
  },
  {
   "cell_type": "code",
   "execution_count": 6,
   "metadata": {},
   "outputs": [
    {
     "name": "stdin",
     "output_type": "stream",
     "text": [
      "enter the amount you want to deposit: Rs 3000\n"
     ]
    },
    {
     "name": "stdout",
     "output_type": "stream",
     "text": [
      "current balance: Rs 15000\n"
     ]
    }
   ],
   "source": [
    "bankAccount.deposit(vilesh)"
   ]
  },
  {
   "cell_type": "code",
   "execution_count": 7,
   "metadata": {},
   "outputs": [
    {
     "name": "stdin",
     "output_type": "stream",
     "text": [
      "enter the amount you ant to withdraw: Rs 20000\n"
     ]
    },
    {
     "name": "stdout",
     "output_type": "stream",
     "text": [
      "not enough balance\n"
     ]
    }
   ],
   "source": [
    "bankAccount.withdrawal(vilesh)"
   ]
  },
  {
   "cell_type": "code",
   "execution_count": 11,
   "metadata": {},
   "outputs": [
    {
     "name": "stdin",
     "output_type": "stream",
     "text": [
      "enter the amount you ant to withdraw: Rs 14999\n"
     ]
    },
    {
     "name": "stdout",
     "output_type": "stream",
     "text": [
      "current balance: Rs 1\n"
     ]
    }
   ],
   "source": [
    "bankAccount.withdrawal(vilesh)"
   ]
  },
  {
   "cell_type": "code",
   "execution_count": null,
   "metadata": {},
   "outputs": [],
   "source": []
  },
  {
   "cell_type": "markdown",
   "metadata": {},
   "source": [
    "question 2"
   ]
  },
  {
   "cell_type": "code",
   "execution_count": 1,
   "metadata": {},
   "outputs": [],
   "source": [
    "class cone():\n",
    "\n",
    "    def __init__(self,r,h):\n",
    "        self.radius = r\n",
    "        self.height = h\n",
    "\n",
    "    def getdetails(self):\n",
    "        print(\"radius: \",self.radius)\n",
    "        print(\"height: \",self.height)\n",
    "\n",
    "    def volume(self):\n",
    "        import math\n",
    "        vol = 1/3*self.height*math.pi*self.radius*self.radius\n",
    "        print(\"volume:\",vol)\n",
    "        \n",
    "    def SurfaceArea(self):\n",
    "        import math\n",
    "        base = math.pi*self.radius*self.radius\n",
    "        side = math.pi*self.radius*math.sqrt((self.radius*self.radius)+(self.height*self.height))\n",
    "        print(\"surface area:\")\n",
    "        print(\"base: \",base)\n",
    "        print(\"side: \",side)"
   ]
  },
  {
   "cell_type": "code",
   "execution_count": 2,
   "metadata": {},
   "outputs": [],
   "source": [
    "cone1 = cone(3,2)"
   ]
  },
  {
   "cell_type": "code",
   "execution_count": 3,
   "metadata": {},
   "outputs": [
    {
     "name": "stdout",
     "output_type": "stream",
     "text": [
      "radius:  3\n",
      "height:  2\n"
     ]
    }
   ],
   "source": [
    "cone.getdetails(cone1)"
   ]
  },
  {
   "cell_type": "code",
   "execution_count": 4,
   "metadata": {},
   "outputs": [
    {
     "name": "stdout",
     "output_type": "stream",
     "text": [
      "volume: 18.84955592153876\n"
     ]
    }
   ],
   "source": [
    "cone.volume(cone1)"
   ]
  },
  {
   "cell_type": "code",
   "execution_count": 5,
   "metadata": {},
   "outputs": [
    {
     "name": "stdout",
     "output_type": "stream",
     "text": [
      "surface area:\n",
      "base:  28.274333882308138\n",
      "side:  33.98152019741693\n"
     ]
    }
   ],
   "source": [
    "cone.SurfaceArea(cone1) "
   ]
  },
  {
   "cell_type": "code",
   "execution_count": null,
   "metadata": {},
   "outputs": [],
   "source": []
  },
  {
   "cell_type": "code",
   "execution_count": null,
   "metadata": {},
   "outputs": [],
   "source": []
  }
 ],
 "metadata": {
  "kernelspec": {
   "display_name": "Python 3",
   "language": "python",
   "name": "python3"
  },
  "language_info": {
   "codemirror_mode": {
    "name": "ipython",
    "version": 3
   },
   "file_extension": ".py",
   "mimetype": "text/x-python",
   "name": "python",
   "nbconvert_exporter": "python",
   "pygments_lexer": "ipython3",
   "version": "3.8.3"
  }
 },
 "nbformat": 4,
 "nbformat_minor": 4
}
