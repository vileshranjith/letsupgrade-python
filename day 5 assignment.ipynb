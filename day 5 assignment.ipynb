{
 "cells": [
  {
   "cell_type": "markdown",
   "metadata": {},
   "source": [
    "Assignment question 1"
   ]
  },
  {
   "cell_type": "code",
   "execution_count": 10,
   "metadata": {},
   "outputs": [
    {
     "name": "stdout",
     "output_type": "stream",
     "text": [
      "enter the length of the list: 5\n",
      "enter the list element: 1\n",
      "enter the list element: 3\n",
      "enter the list element: 5\n",
      "enter the list element: 1\n",
      "enter the list element: 5\n",
      "\n",
      " list is:  [1, 3, 5, 1, 5]\n",
      "\n",
      " it's a match\n"
     ]
    }
   ],
   "source": [
    "testlst = [1, 1, 5]\n",
    "lst1 = []\n",
    "match = 0\n",
    "\n",
    "l = int(input(\"enter the length of the list: \"))\n",
    "\n",
    "for ele in range(0,l):\n",
    "    lst1.append(int(input(\"enter the list element: \")))\n",
    "print(\"\\n list is: \",lst1)\n",
    "    \n",
    "for ele in range(0,l):\n",
    "    if( lst1[ele] == testlst[match] ):\n",
    "        match += 1\n",
    "        ele += 1\n",
    "    else:\n",
    "        ele += 1\n",
    "        \n",
    "if(match == 3):\n",
    "    print(\"\\n it's a match\")\n",
    "else:\n",
    "    print(\"\\n it's gone\")"
   ]
  },
  {
   "cell_type": "code",
   "execution_count": 11,
   "metadata": {},
   "outputs": [
    {
     "name": "stdout",
     "output_type": "stream",
     "text": [
      "enter the length of the list: 6\n",
      "enter the list element: 2\n",
      "enter the list element: 5\n",
      "enter the list element: 1\n",
      "enter the list element: 4\n",
      "enter the list element: 1\n",
      "enter the list element: 6\n",
      "\n",
      " list is:  [2, 5, 1, 4, 1, 6]\n",
      "\n",
      " it's gone\n"
     ]
    }
   ],
   "source": [
    "testlst = [1, 1, 5]\n",
    "lst1 = []\n",
    "match = 0\n",
    "\n",
    "l = int(input(\"enter the length of the list: \"))\n",
    "\n",
    "for ele in range(0,l):\n",
    "    lst1.append(int(input(\"enter the list element: \")))\n",
    "print(\"\\n list is: \",lst1)\n",
    "    \n",
    "for ele in range(0,l):\n",
    "    if( lst1[ele] == testlst[match] ):\n",
    "        match += 1\n",
    "        ele += 1\n",
    "    else:\n",
    "        ele += 1\n",
    "        \n",
    "if(match == 3):\n",
    "    print(\"\\n it's a match\")\n",
    "else:\n",
    "    print(\"\\n it's gone\")"
   ]
  },
  {
   "cell_type": "code",
   "execution_count": 12,
   "metadata": {},
   "outputs": [
    {
     "name": "stdout",
     "output_type": "stream",
     "text": [
      "enter the length of the list: 2\n",
      "enter the list element: 1\n",
      "enter the list element: 5\n",
      "\n",
      " list is:  [1, 5]\n",
      "\n",
      " it's gone\n"
     ]
    }
   ],
   "source": [
    "testlst = [1, 1, 5]\n",
    "lst1 = []\n",
    "match = 0\n",
    "\n",
    "l = int(input(\"enter the length of the list: \"))\n",
    "\n",
    "for ele in range(0,l):\n",
    "    lst1.append(int(input(\"enter the list element: \")))\n",
    "print(\"\\n list is: \",lst1)\n",
    "    \n",
    "for ele in range(0,l):\n",
    "    if( lst1[ele] == testlst[match] ):\n",
    "        match += 1\n",
    "        ele += 1\n",
    "    else:\n",
    "        ele += 1\n",
    "        \n",
    "if(match == 3):\n",
    "    print(\"\\n it's a match\")\n",
    "else:\n",
    "    print(\"\\n it's gone\")"
   ]
  },
  {
   "cell_type": "code",
   "execution_count": null,
   "metadata": {},
   "outputs": [],
   "source": []
  },
  {
   "cell_type": "markdown",
   "metadata": {},
   "source": [
    "question 2"
   ]
  },
  {
   "cell_type": "code",
   "execution_count": 29,
   "metadata": {},
   "outputs": [],
   "source": [
    "def checkprime(num):\n",
    "    for i in range(2,num):\n",
    "        if (num % i) == 0:\n",
    "            break\n",
    "            return False\n",
    "    else:\n",
    "        return True"
   ]
  },
  {
   "cell_type": "code",
   "execution_count": 33,
   "metadata": {},
   "outputs": [],
   "source": [
    "checklst = list(range(2,2500))"
   ]
  },
  {
   "cell_type": "code",
   "execution_count": 34,
   "metadata": {},
   "outputs": [],
   "source": [
    "primelst = filter(checkprime,checklst)"
   ]
  },
  {
   "cell_type": "code",
   "execution_count": 35,
   "metadata": {},
   "outputs": [
    {
     "name": "stdout",
     "output_type": "stream",
     "text": [
      "[2, 3, 5, 7, 11, 13, 17, 19, 23, 29, 31, 37, 41, 43, 47, 53, 59, 61, 67, 71, 73, 79, 83, 89, 97, 101, 103, 107, 109, 113, 127, 131, 137, 139, 149, 151, 157, 163, 167, 173, 179, 181, 191, 193, 197, 199, 211, 223, 227, 229, 233, 239, 241, 251, 257, 263, 269, 271, 277, 281, 283, 293, 307, 311, 313, 317, 331, 337, 347, 349, 353, 359, 367, 373, 379, 383, 389, 397, 401, 409, 419, 421, 431, 433, 439, 443, 449, 457, 461, 463, 467, 479, 487, 491, 499, 503, 509, 521, 523, 541, 547, 557, 563, 569, 571, 577, 587, 593, 599, 601, 607, 613, 617, 619, 631, 641, 643, 647, 653, 659, 661, 673, 677, 683, 691, 701, 709, 719, 727, 733, 739, 743, 751, 757, 761, 769, 773, 787, 797, 809, 811, 821, 823, 827, 829, 839, 853, 857, 859, 863, 877, 881, 883, 887, 907, 911, 919, 929, 937, 941, 947, 953, 967, 971, 977, 983, 991, 997, 1009, 1013, 1019, 1021, 1031, 1033, 1039, 1049, 1051, 1061, 1063, 1069, 1087, 1091, 1093, 1097, 1103, 1109, 1117, 1123, 1129, 1151, 1153, 1163, 1171, 1181, 1187, 1193, 1201, 1213, 1217, 1223, 1229, 1231, 1237, 1249, 1259, 1277, 1279, 1283, 1289, 1291, 1297, 1301, 1303, 1307, 1319, 1321, 1327, 1361, 1367, 1373, 1381, 1399, 1409, 1423, 1427, 1429, 1433, 1439, 1447, 1451, 1453, 1459, 1471, 1481, 1483, 1487, 1489, 1493, 1499, 1511, 1523, 1531, 1543, 1549, 1553, 1559, 1567, 1571, 1579, 1583, 1597, 1601, 1607, 1609, 1613, 1619, 1621, 1627, 1637, 1657, 1663, 1667, 1669, 1693, 1697, 1699, 1709, 1721, 1723, 1733, 1741, 1747, 1753, 1759, 1777, 1783, 1787, 1789, 1801, 1811, 1823, 1831, 1847, 1861, 1867, 1871, 1873, 1877, 1879, 1889, 1901, 1907, 1913, 1931, 1933, 1949, 1951, 1973, 1979, 1987, 1993, 1997, 1999, 2003, 2011, 2017, 2027, 2029, 2039, 2053, 2063, 2069, 2081, 2083, 2087, 2089, 2099, 2111, 2113, 2129, 2131, 2137, 2141, 2143, 2153, 2161, 2179, 2203, 2207, 2213, 2221, 2237, 2239, 2243, 2251, 2267, 2269, 2273, 2281, 2287, 2293, 2297, 2309, 2311, 2333, 2339, 2341, 2347, 2351, 2357, 2371, 2377, 2381, 2383, 2389, 2393, 2399, 2411, 2417, 2423, 2437, 2441, 2447, 2459, 2467, 2473, 2477]\n"
     ]
    }
   ],
   "source": [
    "print(list(primelst))"
   ]
  },
  {
   "cell_type": "code",
   "execution_count": null,
   "metadata": {},
   "outputs": [],
   "source": []
  },
  {
   "cell_type": "markdown",
   "metadata": {},
   "source": [
    "question 3"
   ]
  },
  {
   "cell_type": "code",
   "execution_count": 41,
   "metadata": {},
   "outputs": [],
   "source": [
    "smallList=[\"hey this is vilesh\",\"i am from bangalore\",\"i am studying bca\"]"
   ]
  },
  {
   "cell_type": "code",
   "execution_count": 44,
   "metadata": {},
   "outputs": [],
   "source": [
    "capitalList = map(lambda sentence: sentence.title(),smallList)"
   ]
  },
  {
   "cell_type": "code",
   "execution_count": 45,
   "metadata": {},
   "outputs": [
    {
     "name": "stdout",
     "output_type": "stream",
     "text": [
      "['Hey This Is Vilesh', 'I Am From Bangalore', 'I Am Studying Bca']\n"
     ]
    }
   ],
   "source": [
    "print(list(capitalList))"
   ]
  },
  {
   "cell_type": "code",
   "execution_count": null,
   "metadata": {},
   "outputs": [],
   "source": []
  },
  {
   "cell_type": "markdown",
   "metadata": {},
   "source": [
    "The End"
   ]
  }
 ],
 "metadata": {
  "kernelspec": {
   "display_name": "Python 3",
   "language": "python",
   "name": "python3"
  },
  "language_info": {
   "codemirror_mode": {
    "name": "ipython",
    "version": 3
   },
   "file_extension": ".py",
   "mimetype": "text/x-python",
   "name": "python",
   "nbconvert_exporter": "python",
   "pygments_lexer": "ipython3",
   "version": "3.8.3"
  }
 },
 "nbformat": 4,
 "nbformat_minor": 4
}
